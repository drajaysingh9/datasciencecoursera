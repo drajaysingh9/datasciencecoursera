{
  "nbformat": 4,
  "nbformat_minor": 0,
  "metadata": {
    "colab": {
      "name": "[BSE]_AssumptionTesting.ipynb",
      "provenance": [],
      "collapsed_sections": [],
      "include_colab_link": true
    },
    "kernelspec": {
      "name": "python3",
      "display_name": "Python 3"
    },
    "language_info": {
      "name": "python"
    }
  },
  "cells": [
    {
      "cell_type": "markdown",
      "metadata": {
        "id": "view-in-github",
        "colab_type": "text"
      },
      "source": [
        "<a href=\"https://colab.research.google.com/github/drajaysingh9/datasciencecoursera/blob/main/%5BBSE%5D_AssumptionTesting.ipynb\" target=\"_parent\"><img src=\"https://colab.research.google.com/assets/colab-badge.svg\" alt=\"Open In Colab\"/></a>"
      ]
    },
    {
      "cell_type": "code",
      "metadata": {
        "id": "bArHahUhIUqX"
      },
      "source": [
        "import numpy as np\n",
        "import matplotlib.pyplot as plt\n",
        "import pandas as pd\n",
        "\n",
        "## Data Visualization\n",
        "import seaborn as sns\n",
        "import matplotlib.pyplot as plt\n",
        "from mpl_toolkits.mplot3d import Axes3D"
      ],
      "execution_count": null,
      "outputs": []
    },
    {
      "cell_type": "code",
      "metadata": {
        "id": "dgzcV45yMyPj"
      },
      "source": [
        "#!pip install statsmodels==0.12"
      ],
      "execution_count": null,
      "outputs": []
    },
    {
      "cell_type": "code",
      "metadata": {
        "id": "DDzM14CBM66P"
      },
      "source": [
        "from statsmodels.tsa.arima.model import ARIMA"
      ],
      "execution_count": null,
      "outputs": []
    },
    {
      "cell_type": "markdown",
      "metadata": {
        "id": "rh5wOQRpNJ5v"
      },
      "source": [
        "# **Air Passenger Dataset**"
      ]
    },
    {
      "cell_type": "code",
      "metadata": {
        "colab": {
          "base_uri": "https://localhost:8080/",
          "height": 297
        },
        "id": "Y1C0DamkNEo6",
        "outputId": "56d72897-785d-4cba-d3d7-79360784cbd1"
      },
      "source": [
        "df = pd.read_csv('https://raw.githubusercontent.com/jyotie02/BSE_TimeSeries/main/AirPassengers.csv', header=0, index_col=0)\n",
        "df.plot()"
      ],
      "execution_count": null,
      "outputs": [
        {
          "output_type": "execute_result",
          "data": {
            "text/plain": [
              "<matplotlib.axes._subplots.AxesSubplot at 0x7f8e822effd0>"
            ]
          },
          "metadata": {},
          "execution_count": 4
        },
        {
          "output_type": "display_data",
          "data": {
            "image/png": "[encoded data removed]",
            "text/plain": [
              "<Figure size 432x288 with 1 Axes>"
            ]
          },
          "metadata": {
            "needs_background": "light"
          }
        }
      ]
    },
    {
      "cell_type": "code",
      "metadata": {
        "colab": {
          "base_uri": "https://localhost:8080/",
          "height": 237
        },
        "id": "4D9H0bnWNqCj",
        "outputId": "69bc24c7-3f2c-451b-bcc3-12c6cd58aec5"
      },
      "source": [
        "df.head()"
      ],
      "execution_count": null,
      "outputs": [
        {
          "output_type": "execute_result",
          "data": {
            "text/html": [
              "<div>\n",
              "<style scoped>\n",
              "    .dataframe tbody tr th:only-of-type {\n",
              "        vertical-align: middle;\n",
              "    }\n",
              "\n",
              "    .dataframe tbody tr th {\n",
              "        vertical-align: top;\n",
              "    }\n",
              "\n",
              "    .dataframe thead th {\n",
              "        text-align: right;\n",
              "    }\n",
              "</style>\n",
              "<table border=\"1\" class=\"dataframe\">\n",
              "  <thead>\n",
              "    <tr style=\"text-align: right;\">\n",
              "      <th></th>\n",
              "      <th>#Passengers</th>\n",
              "    </tr>\n",
              "    <tr>\n",
              "      <th>Month</th>\n",
              "      <th></th>\n",
              "    </tr>\n",
              "  </thead>\n",
              "  <tbody>\n",
              "    <tr>\n",
              "      <th>1949-01</th>\n",
              "      <td>112</td>\n",
              "    </tr>\n",
              "    <tr>\n",
              "      <th>1949-02</th>\n",
              "      <td>118</td>\n",
              "    </tr>\n",
              "    <tr>\n",
              "      <th>1949-03</th>\n",
              "      <td>132</td>\n",
              "    </tr>\n",
              "    <tr>\n",
              "      <th>1949-04</th>\n",
              "      <td>129</td>\n",
              "    </tr>\n",
              "    <tr>\n",
              "      <th>1949-05</th>\n",
              "      <td>121</td>\n",
              "    </tr>\n",
              "  </tbody>\n",
              "</table>\n",
              "</div>"
            ],
            "text/plain": [
              "         #Passengers\n",
              "Month               \n",
              "1949-01          112\n",
              "1949-02          118\n",
              "1949-03          132\n",
              "1949-04          129\n",
              "1949-05          121"
            ]
          },
          "metadata": {},
          "execution_count": 5
        }
      ]
    },
    {
      "cell_type": "markdown",
      "metadata": {
        "id": "dn3oWV-3OTNH"
      },
      "source": [
        "# **Stationarity check**"
      ]
    },
    {
      "cell_type": "code",
      "metadata": {
        "colab": {
          "base_uri": "https://localhost:8080/"
        },
        "id": "5YeuGZUOOPSZ",
        "outputId": "552a0c54-7b86-45fa-d55b-8344ae2214ac"
      },
      "source": [
        "X = df.values\n",
        "split = int(len(X) / 2)\n",
        "X1, X2 = X[0:split], X[split:]\n",
        "mean1, mean2 = X1.mean(), X2.mean()\n",
        "var1, var2 = X1.var(), X2.var()\n",
        "print('mean1=%f, mean2=%f' % (mean1, mean2))\n",
        "print('variance1=%f, variance2=%f' % (var1, var2))"
      ],
      "execution_count": null,
      "outputs": [
        {
          "output_type": "stream",
          "name": "stdout",
          "text": [
            "mean1=182.902778, mean2=377.694444\n",
            "variance1=2244.087770, variance2=7367.962191\n"
          ]
        }
      ]
    },
    {
      "cell_type": "markdown",
      "metadata": {
        "id": "3hRaHoAzQEyU"
      },
      "source": [
        "**ADF test**"
      ]
    },
    {
      "cell_type": "code",
      "metadata": {
        "id": "Jey11L0zOdcA"
      },
      "source": [
        "from statsmodels.tsa.stattools import adfuller"
      ],
      "execution_count": null,
      "outputs": []
    },
    {
      "cell_type": "code",
      "metadata": {
        "colab": {
          "base_uri": "https://localhost:8080/"
        },
        "id": "dV8CvhprQG-J",
        "outputId": "7b5b8c86-7227-4f1c-97dd-33393f496bf2"
      },
      "source": [
        "X = df.values\n",
        "result = adfuller(X)\n",
        "print('ADF Statistic: %f' % result[0])\n",
        "print('p-value: %f' % result[1])\n",
        "print('Critical Values:')\n",
        "for key, value in result[4].items():\n",
        "\tprint('\\t%s: %.3f' % (key, value))"
      ],
      "execution_count": null,
      "outputs": [
        {
          "output_type": "stream",
          "name": "stdout",
          "text": [
            "ADF Statistic: 0.815369\n",
            "p-value: 0.991880\n",
            "Critical Values:\n",
            "\t1%: -3.482\n",
            "\t5%: -2.884\n",
            "\t10%: -2.579\n"
          ]
        }
      ]
    },
    {
      "cell_type": "markdown",
      "metadata": {
        "id": "5R8fpQ3GjNbh"
      },
      "source": [
        "Result : Series is Non Stationary"
      ]
    },
    {
      "cell_type": "code",
      "metadata": {
        "id": "ECHBOUi4QJQ7"
      },
      "source": [
        "diff=[]\n",
        "\n",
        "data=df.values \n",
        "\n",
        "for i in range(1,len(data)):\n",
        "  diff.append(data[i]- data[i-1])\n",
        "\n",
        "Diff=np.asarray(diff)"
      ],
      "execution_count": null,
      "outputs": []
    },
    {
      "cell_type": "code",
      "metadata": {
        "colab": {
          "base_uri": "https://localhost:8080/",
          "height": 284
        },
        "id": "avmZshQ5QOc1",
        "outputId": "0af4639a-fcde-4870-d18a-13370702a7ea"
      },
      "source": [
        "plt.plot(Diff)"
      ],
      "execution_count": null,
      "outputs": [
        {
          "output_type": "execute_result",
          "data": {
            "text/plain": [
              "[<matplotlib.lines.Line2D at 0x7f8e75a83e10>]"
            ]
          },
          "metadata": {},
          "execution_count": 10
        },
        {
          "output_type": "display_data",
          "data": {
            "image/png": "[encoded data removed]",
            "text/plain": [
              "<Figure size 432x288 with 1 Axes>"
            ]
          },
          "metadata": {
            "needs_background": "light"
          }
        }
      ]
    },
    {
      "cell_type": "code",
      "metadata": {
        "colab": {
          "base_uri": "https://localhost:8080/"
        },
        "id": "Kh6PW5oYQRMG",
        "outputId": "d7af0f4b-fc72-4f81-ae49-80aa007fa3c8"
      },
      "source": [
        "\n",
        "result = adfuller(Diff)\n",
        "print('ADF Statistic: %f' % result[0])\n",
        "print('p-value: %f' % result[1])\n",
        "print('Critical Values:')\n",
        "for key, value in result[4].items():\n",
        "\tprint('\\t%s: %.3f' % (key, value))"
      ],
      "execution_count": null,
      "outputs": [
        {
          "output_type": "stream",
          "name": "stdout",
          "text": [
            "ADF Statistic: -2.829267\n",
            "p-value: 0.054213\n",
            "Critical Values:\n",
            "\t1%: -3.482\n",
            "\t5%: -2.884\n",
            "\t10%: -2.579\n"
          ]
        }
      ]
    },
    {
      "cell_type": "markdown",
      "metadata": {
        "id": "a-FgD00KQVLL"
      },
      "source": [
        "TEST STATISTIC < CRITICAL VALUE(10%) --> DATA IS 90% SURELY STATIONARY"
      ]
    },
    {
      "cell_type": "markdown",
      "metadata": {
        "id": "fLbMNwJAQuN4"
      },
      "source": [
        "### **ACF and PACF plot**"
      ]
    },
    {
      "cell_type": "code",
      "metadata": {
        "id": "a-TGeciqQrCz"
      },
      "source": [
        "from statsmodels.graphics.tsaplots import plot_acf, plot_pacf"
      ],
      "execution_count": null,
      "outputs": []
    },
    {
      "cell_type": "code",
      "metadata": {
        "colab": {
          "base_uri": "https://localhost:8080/",
          "height": 281
        },
        "id": "kqbZLOqRjqOP",
        "outputId": "beb88fb7-e942-4d60-b58d-7ceea420deb8"
      },
      "source": [
        "plot_acf(df.values)\n",
        "plt.show()"
      ],
      "execution_count": null,
      "outputs": [
        {
          "output_type": "display_data",
          "data": {
            "image/png": "[encoded data removed]",
            "text/plain": [
              "<Figure size 432x288 with 1 Axes>"
            ]
          },
          "metadata": {
            "needs_background": "light"
          }
        }
      ]
    },
    {
      "cell_type": "code",
      "metadata": {
        "colab": {
          "base_uri": "https://localhost:8080/",
          "height": 281
        },
        "id": "5_6PAXkdQrE9",
        "outputId": "912f526a-27c6-44c2-dbc2-6e8c3e5061cb"
      },
      "source": [
        "\n",
        "plot_pacf(df.values)\n",
        "plt.show()"
      ],
      "execution_count": null,
      "outputs": [
        {
          "output_type": "display_data",
          "data": {
            "image/png": "[encoded data removed]",
            "text/plain": [
              "<Figure size 432x288 with 1 Axes>"
            ]
          },
          "metadata": {
            "needs_background": "light"
          }
        }
      ]
    },
    {
      "cell_type": "markdown",
      "metadata": {
        "id": "yEqE2DddTXbw"
      },
      "source": [
        "### **ARIMA**"
      ]
    },
    {
      "cell_type": "code",
      "metadata": {
        "id": "x9Sv-iFvQrHc"
      },
      "source": [
        "model_air = ARIMA(df.values , order=(1,1,1))\n",
        "model_fit_air = model_air.fit()"
      ],
      "execution_count": null,
      "outputs": []
    },
    {
      "cell_type": "code",
      "metadata": {
        "id": "yifIgoX9QrJq"
      },
      "source": [
        "pred_air = model_fit_air.predict(start=0, end=len(df.values)-1, dynamic=False)"
      ],
      "execution_count": null,
      "outputs": []
    },
    {
      "cell_type": "code",
      "metadata": {
        "id": "YyLgvyXTy-Zi"
      },
      "source": [
        "df['pred_arima']=pred_air"
      ],
      "execution_count": null,
      "outputs": []
    },
    {
      "cell_type": "code",
      "metadata": {
        "colab": {
          "base_uri": "https://localhost:8080/",
          "height": 301
        },
        "id": "gtV7gKgVQrLx",
        "outputId": "197d656d-f448-4534-cd06-d9ccc0cc4d20"
      },
      "source": [
        "plt.plot(pred_air)\n",
        "plt.plot(df.values, color='red', linewidth=1)"
      ],
      "execution_count": null,
      "outputs": [
        {
          "output_type": "execute_result",
          "data": {
            "text/plain": [
              "[<matplotlib.lines.Line2D at 0x7f8e7382a890>,\n",
              " <matplotlib.lines.Line2D at 0x7f8e7382aa90>]"
            ]
          },
          "metadata": {},
          "execution_count": 18
        },
        {
          "output_type": "display_data",
          "data": {
            "image/png": "[encoded data removed]",
            "text/plain": [
              "<Figure size 432x288 with 1 Axes>"
            ]
          },
          "metadata": {
            "needs_background": "light"
          }
        }
      ]
    },
    {
      "cell_type": "code",
      "metadata": {
        "colab": {
          "base_uri": "https://localhost:8080/"
        },
        "id": "5uPb7fDOQrN-",
        "outputId": "767bd6e3-26fa-4dbb-c4f2-5a18c199b3d2"
      },
      "source": [
        "print(model_fit_air.arparams)"
      ],
      "execution_count": null,
      "outputs": [
        {
          "output_type": "stream",
          "name": "stdout",
          "text": [
            "[-0.47419591]\n"
          ]
        }
      ]
    },
    {
      "cell_type": "code",
      "metadata": {
        "colab": {
          "base_uri": "https://localhost:8080/"
        },
        "id": "r_Kso-1LUWdl",
        "outputId": "bf5cde2d-0cb9-41f6-c422-794285737030"
      },
      "source": [
        "print(model_fit_air.maparams)"
      ],
      "execution_count": null,
      "outputs": [
        {
          "output_type": "stream",
          "name": "stdout",
          "text": [
            "[0.86349641]\n"
          ]
        }
      ]
    },
    {
      "cell_type": "code",
      "metadata": {
        "colab": {
          "base_uri": "https://localhost:8080/"
        },
        "id": "LNO_U0IwUWgB",
        "outputId": "f8ab88e8-ad34-434f-f414-d3f5945f165d"
      },
      "source": [
        "print(model_fit_air.mse)"
      ],
      "execution_count": null,
      "outputs": [
        {
          "output_type": "stream",
          "name": "stdout",
          "text": [
            "1042.9304613222878\n"
          ]
        }
      ]
    },
    {
      "cell_type": "markdown",
      "metadata": {
        "id": "IZ7_U4dOYFMp"
      },
      "source": [
        "*   Error is high because of the Seasonality\n",
        "*   So, We move to SARIMA model\n"
      ]
    },
    {
      "cell_type": "markdown",
      "metadata": {
        "id": "BHrzVjIyX_cv"
      },
      "source": [
        "### **SARIMA**"
      ]
    },
    {
      "cell_type": "code",
      "metadata": {
        "id": "0s0AnD2vX-nt"
      },
      "source": [
        "from statsmodels.tsa.statespace.sarimax import SARIMAX"
      ],
      "execution_count": null,
      "outputs": []
    },
    {
      "cell_type": "code",
      "metadata": {
        "id": "x3b20caCX-qV"
      },
      "source": [
        "model_sarima = SARIMAX(df['#Passengers'].values ,order = (1,1,1),seasonal_order = (1,1,2,12))\n",
        "results_sarima = model_sarima.fit()"
      ],
      "execution_count": null,
      "outputs": []
    },
    {
      "cell_type": "code",
      "metadata": {
        "id": "CFW5iacaX-sU"
      },
      "source": [
        "pred_sarima = results_sarima.predict(start=0, end=len(df.values)-1, dynamic=False)"
      ],
      "execution_count": null,
      "outputs": []
    },
    {
      "cell_type": "code",
      "metadata": {
        "id": "NpPAB2vqzG6H"
      },
      "source": [
        "df['pred_sarima']=pred_sarima"
      ],
      "execution_count": null,
      "outputs": []
    },
    {
      "cell_type": "code",
      "metadata": {
        "colab": {
          "base_uri": "https://localhost:8080/",
          "height": 284
        },
        "id": "v9WKPhw1X-uf",
        "outputId": "245c9216-c332-4175-ada8-7cc1fc54f6bc"
      },
      "source": [
        "plt.plot(pred_sarima)\n",
        "plt.plot(df['#Passengers'].values, color='red', linewidth=1)"
      ],
      "execution_count": null,
      "outputs": [
        {
          "output_type": "execute_result",
          "data": {
            "text/plain": [
              "[<matplotlib.lines.Line2D at 0x7f8e73756710>]"
            ]
          },
          "metadata": {},
          "execution_count": 25
        },
        {
          "output_type": "display_data",
          "data": {
            "image/png": "[encoded data removed]",
            "text/plain": [
              "<Figure size 432x288 with 1 Axes>"
            ]
          },
          "metadata": {
            "needs_background": "light"
          }
        }
      ]
    },
    {
      "cell_type": "code",
      "metadata": {
        "colab": {
          "base_uri": "https://localhost:8080/"
        },
        "id": "iphUkBhVX-we",
        "outputId": "dd216dbd-11f0-4ac7-fbf1-2f153b6dd063"
      },
      "source": [
        "print(results_sarima.mse)"
      ],
      "execution_count": null,
      "outputs": [
        {
          "output_type": "stream",
          "name": "stdout",
          "text": [
            "231.0818927940408\n"
          ]
        }
      ]
    },
    {
      "cell_type": "markdown",
      "metadata": {
        "id": "4ZYcU-gZglGf"
      },
      "source": [
        "## **Assumption Testing**"
      ]
    },
    {
      "cell_type": "markdown",
      "metadata": {
        "id": "APZn3_Qiij9y"
      },
      "source": [
        "## **Linearity**\n",
        "\n",
        "we can do this by using a scatter plot to see our predicted values versus the actual values."
      ]
    },
    {
      "cell_type": "code",
      "metadata": {
        "colab": {
          "base_uri": "https://localhost:8080/",
          "height": 284
        },
        "id": "ojNeJr2CjLHd",
        "outputId": "aa4d207b-85fe-4783-ff60-3197ceb2f81d"
      },
      "source": [
        "# Plotting the observed vs predicted values\n",
        "plt.scatter(df['#Passengers'].values,pred_sarima)"
      ],
      "execution_count": null,
      "outputs": [
        {
          "output_type": "execute_result",
          "data": {
            "text/plain": [
              "<matplotlib.collections.PathCollection at 0x7f8e7598cb10>"
            ]
          },
          "metadata": {},
          "execution_count": 27
        },
        {
          "output_type": "display_data",
          "data": {
            "image/png": "[encoded data removed]",
            "text/plain": [
              "<Figure size 432x288 with 1 Axes>"
            ]
          },
          "metadata": {
            "needs_background": "light"
          }
        }
      ]
    },
    {
      "cell_type": "code",
      "metadata": {
        "colab": {
          "base_uri": "https://localhost:8080/",
          "height": 428
        },
        "id": "oNbvVeGXTvWZ",
        "outputId": "75705772-b8a8-49b2-a70a-16a464754cd1"
      },
      "source": [
        "# Plotting the observed vs predicted values\n",
        "sns.lmplot(x='#Passengers', y='pred_sarima', data=df, fit_reg=False, size=5)\n",
        "    \n",
        "# Plotting the diagonal line\n",
        "line_coords = np.arange(df[['#Passengers', 'pred_sarima']].min().min()-10, \n",
        "                        df[['#Passengers', 'pred_sarima']].max().max()+10)\n",
        "plt.plot(line_coords, line_coords,  # X and y points\n",
        "         color='darkorange', linestyle='--')\n",
        "\n",
        "plt.ylabel('Predicted ', fontsize=14)\n",
        "plt.xlabel('Actual', fontsize=14)\n",
        "plt.title('Linearity Assumption', fontsize=16)\n",
        "plt.show()"
      ],
      "execution_count": null,
      "outputs": [
        {
          "output_type": "stream",
          "name": "stderr",
          "text": [
            "/usr/local/lib/python3.7/dist-packages/seaborn/regression.py:581: UserWarning: The `size` parameter has been renamed to `height`; please update your code.\n",
            "  warnings.warn(msg, UserWarning)\n"
          ]
        },
        {
          "output_type": "display_data",
          "data": {
            "image/png": "[encoded data removed]",
            "text/plain": [
              "<Figure size 360x360 with 1 Axes>"
            ]
          },
          "metadata": {
            "needs_background": "light"
          }
        }
      ]
    },
    {
      "cell_type": "markdown",
      "metadata": {
        "id": "3OW7BkELUt8-"
      },
      "source": [
        "The scatter plots show residual point evenly spread around the diagonal line, so we can assume that there is linear relationship."
      ]
    },
    {
      "cell_type": "markdown",
      "metadata": {
        "id": "1L_i5I-YPpCc"
      },
      "source": [
        "## **Normality**"
      ]
    },
    {
      "cell_type": "code",
      "metadata": {
        "colab": {
          "base_uri": "https://localhost:8080/",
          "height": 378
        },
        "id": "hUAEiI3-Ppf-",
        "outputId": "d96e5b82-7988-42be-e49f-8fc6f9d7ec2a"
      },
      "source": [
        "from statsmodels.stats.diagnostic import normal_ad\n",
        "\n",
        "# Performing the test on the residuals\n",
        "p_value = normal_ad((pred_sarima-df['#Passengers'].values))[1]\n",
        "print('p-value from the test Anderson-Darling test below 0.05 generally means non-normal:', p_value)\n",
        "\n",
        "# Plotting the residuals distribution\n",
        "plt.subplots(figsize=(8, 4))\n",
        "plt.title('Distribution of Residuals', fontsize=18)\n",
        "sns.distplot((pred_sarima-df['#Passengers'].values))\n",
        "plt.show()\n",
        "\n",
        "# Reporting the normality of the residuals\n",
        "if p_value < 0.05:\n",
        "    print('Residuals are not normally distributed')\n",
        "else:\n",
        "    print('Residuals are normally distributed')"
      ],
      "execution_count": null,
      "outputs": [
        {
          "output_type": "stream",
          "name": "stdout",
          "text": [
            "p-value from the test Anderson-Darling test below 0.05 generally means non-normal: 9.372715354870958e-10\n"
          ]
        },
        {
          "output_type": "stream",
          "name": "stderr",
          "text": [
            "/usr/local/lib/python3.7/dist-packages/seaborn/distributions.py:2619: FutureWarning: `distplot` is a deprecated function and will be removed in a future version. Please adapt your code to use either `displot` (a figure-level function with similar flexibility) or `histplot` (an axes-level function for histograms).\n",
            "  warnings.warn(msg, FutureWarning)\n"
          ]
        },
        {
          "output_type": "display_data",
          "data": {
            "image/png": "[encoded data removed]",
            "text/plain": [
              "<Figure size 576x288 with 1 Axes>"
            ]
          },
          "metadata": {
            "needs_background": "light"
          }
        },
        {
          "output_type": "stream",
          "name": "stdout",
          "text": [
            "Residuals are not normally distributed\n"
          ]
        }
      ]
    },
    {
      "cell_type": "markdown",
      "metadata": {
        "id": "M1w7vpyZRwAv"
      },
      "source": [
        "## **Autocorrelation**"
      ]
    },
    {
      "cell_type": "markdown",
      "metadata": {
        "id": "uGnoUZVsUneK"
      },
      "source": [
        "### **Ljung Box Testing**"
      ]
    },
    {
      "cell_type": "markdown",
      "metadata": {
        "id": "RHylFJU1VZvX"
      },
      "source": [
        "**Air Passenger**"
      ]
    },
    {
      "cell_type": "code",
      "metadata": {
        "id": "_xcK8wLLUWiH"
      },
      "source": [
        "from statsmodels.stats.diagnostic import acorr_ljungbox"
      ],
      "execution_count": null,
      "outputs": []
    },
    {
      "cell_type": "code",
      "metadata": {
        "colab": {
          "base_uri": "https://localhost:8080/",
          "height": 81
        },
        "id": "VOVz7Hd3UWkd",
        "outputId": "62fe9086-aee7-4a4b-eaa3-5fdee86bdd85"
      },
      "source": [
        "acorr_ljungbox(df['#Passengers'].values, lags=[1], return_df=True)"
      ],
      "execution_count": null,
      "outputs": [
        {
          "output_type": "execute_result",
          "data": {
            "text/html": [
              "<div>\n",
              "<style scoped>\n",
              "    .dataframe tbody tr th:only-of-type {\n",
              "        vertical-align: middle;\n",
              "    }\n",
              "\n",
              "    .dataframe tbody tr th {\n",
              "        vertical-align: top;\n",
              "    }\n",
              "\n",
              "    .dataframe thead th {\n",
              "        text-align: right;\n",
              "    }\n",
              "</style>\n",
              "<table border=\"1\" class=\"dataframe\">\n",
              "  <thead>\n",
              "    <tr style=\"text-align: right;\">\n",
              "      <th></th>\n",
              "      <th>lb_stat</th>\n",
              "      <th>lb_pvalue</th>\n",
              "    </tr>\n",
              "  </thead>\n",
              "  <tbody>\n",
              "    <tr>\n",
              "      <th>1</th>\n",
              "      <td>132.141539</td>\n",
              "      <td>1.393231e-30</td>\n",
              "    </tr>\n",
              "  </tbody>\n",
              "</table>\n",
              "</div>"
            ],
            "text/plain": [
              "      lb_stat     lb_pvalue\n",
              "1  132.141539  1.393231e-30"
            ]
          },
          "metadata": {},
          "execution_count": 33
        }
      ]
    },
    {
      "cell_type": "markdown",
      "metadata": {
        "id": "Nf12iP7FVUnl"
      },
      "source": [
        "Here we see a p-value much smaller than .01, thus we can reject the null hypothesis, indicating the time series does contain an autocorrelation."
      ]
    },
    {
      "cell_type": "markdown",
      "metadata": {
        "id": "nSC5WxTBWgNN"
      },
      "source": [
        "**Prediction using ARIMA**"
      ]
    },
    {
      "cell_type": "code",
      "metadata": {
        "colab": {
          "base_uri": "https://localhost:8080/",
          "height": 81
        },
        "id": "nScIstAwUWmm",
        "outputId": "f1144454-3c71-45b0-e265-f057ffec6ed0"
      },
      "source": [
        "acorr_ljungbox((pred_air-df['#Passengers'].values), lags=[1], return_df=True)"
      ],
      "execution_count": null,
      "outputs": [
        {
          "output_type": "execute_result",
          "data": {
            "text/html": [
              "<div>\n",
              "<style scoped>\n",
              "    .dataframe tbody tr th:only-of-type {\n",
              "        vertical-align: middle;\n",
              "    }\n",
              "\n",
              "    .dataframe tbody tr th {\n",
              "        vertical-align: top;\n",
              "    }\n",
              "\n",
              "    .dataframe thead th {\n",
              "        text-align: right;\n",
              "    }\n",
              "</style>\n",
              "<table border=\"1\" class=\"dataframe\">\n",
              "  <thead>\n",
              "    <tr style=\"text-align: right;\">\n",
              "      <th></th>\n",
              "      <th>lb_stat</th>\n",
              "      <th>lb_pvalue</th>\n",
              "    </tr>\n",
              "  </thead>\n",
              "  <tbody>\n",
              "    <tr>\n",
              "      <th>1</th>\n",
              "      <td>0.21089</td>\n",
              "      <td>0.646071</td>\n",
              "    </tr>\n",
              "  </tbody>\n",
              "</table>\n",
              "</div>"
            ],
            "text/plain": [
              "   lb_stat  lb_pvalue\n",
              "1  0.21089   0.646071"
            ]
          },
          "metadata": {},
          "execution_count": 34
        }
      ]
    },
    {
      "cell_type": "markdown",
      "metadata": {
        "id": "29bidtSaX7g3"
      },
      "source": [
        "We don't have enough statistical evidence to reject the null hypothesis.\tThe data are random."
      ]
    },
    {
      "cell_type": "markdown",
      "metadata": {
        "id": "c3fcyInBYVWh"
      },
      "source": [
        "**Prediction using SARIMA**"
      ]
    },
    {
      "cell_type": "code",
      "metadata": {
        "colab": {
          "base_uri": "https://localhost:8080/",
          "height": 81
        },
        "id": "WJGv9wdtUWo0",
        "outputId": "0fc47cdd-6421-40aa-cf9a-fb70d0daa38d"
      },
      "source": [
        "acorr_ljungbox((pred_sarima-df['#Passengers'].values), lags=[1], return_df=True)"
      ],
      "execution_count": null,
      "outputs": [
        {
          "output_type": "execute_result",
          "data": {
            "text/html": [
              "<div>\n",
              "<style scoped>\n",
              "    .dataframe tbody tr th:only-of-type {\n",
              "        vertical-align: middle;\n",
              "    }\n",
              "\n",
              "    .dataframe tbody tr th {\n",
              "        vertical-align: top;\n",
              "    }\n",
              "\n",
              "    .dataframe thead th {\n",
              "        text-align: right;\n",
              "    }\n",
              "</style>\n",
              "<table border=\"1\" class=\"dataframe\">\n",
              "  <thead>\n",
              "    <tr style=\"text-align: right;\">\n",
              "      <th></th>\n",
              "      <th>lb_stat</th>\n",
              "      <th>lb_pvalue</th>\n",
              "    </tr>\n",
              "  </thead>\n",
              "  <tbody>\n",
              "    <tr>\n",
              "      <th>1</th>\n",
              "      <td>5.243020e-07</td>\n",
              "      <td>0.999422</td>\n",
              "    </tr>\n",
              "  </tbody>\n",
              "</table>\n",
              "</div>"
            ],
            "text/plain": [
              "        lb_stat  lb_pvalue\n",
              "1  5.243020e-07   0.999422"
            ]
          },
          "metadata": {},
          "execution_count": 35
        }
      ]
    },
    {
      "cell_type": "markdown",
      "metadata": {
        "id": "K7aOOdRefYbh"
      },
      "source": [
        "We don't have enough statistical evidence to reject the null hypothesis.\tThe data are random."
      ]
    },
    {
      "cell_type": "markdown",
      "metadata": {
        "id": "1p4dgGY9R7s1"
      },
      "source": [
        "### **Durbin-Watson score**"
      ]
    },
    {
      "cell_type": "markdown",
      "metadata": {
        "id": "zCELjQ3oSFA9"
      },
      "source": [
        "* If the Durbin-Watson score is less than 1.5 then there is a positive autocorrelation and the assumption is not satisfied\n",
        "* If the Durbin-Watson score is between 1.5 and 2.5 then there is no autocorrelation and the assumption is satisfied\n",
        "* If the Durbin-Watson score is more than 2.5 then there is a negative autocorrelation and the assumption is not satisfied"
      ]
    },
    {
      "cell_type": "code",
      "metadata": {
        "colab": {
          "base_uri": "https://localhost:8080/"
        },
        "id": "VmribHyBUWrO",
        "outputId": "dc00df14-5bcc-4c56-8172-a2d3cefd9d9a"
      },
      "source": [
        "from statsmodels.stats.stattools import durbin_watson\n",
        "\n",
        "durbinWatson = durbin_watson((pred_sarima-df['#Passengers'].values))\n",
        "\n",
        "print('Durbin-Watson:', durbinWatson)\n",
        "if durbinWatson < 1.5:\n",
        "    print('Signs of positive autocorrelation', '\\n')\n",
        "    print('Assumption not satisfied')\n",
        "elif durbinWatson > 2.5:\n",
        "    print('Signs of negative autocorrelation', '\\n')\n",
        "    print('Assumption not satisfied')\n",
        "else:\n",
        "    print('Little to no autocorrelation', '\\n')\n",
        "    print('Assumption satisfied')"
      ],
      "execution_count": null,
      "outputs": [
        {
          "output_type": "stream",
          "name": "stdout",
          "text": [
            "Durbin-Watson: 1.6226921359322988\n",
            "Little to no autocorrelation \n",
            "\n",
            "Assumption satisfied\n"
          ]
        }
      ]
    },
    {
      "cell_type": "markdown",
      "metadata": {
        "id": "RqMx5lwvSz7f"
      },
      "source": [
        "## **Homoscedasticity**"
      ]
    },
    {
      "cell_type": "code",
      "metadata": {
        "colab": {
          "base_uri": "https://localhost:8080/",
          "height": 301
        },
        "id": "t2n1YZ5yVDft",
        "outputId": "8f5d0b8a-8c7f-43c9-9725-9a4ed2d4c6a5"
      },
      "source": [
        "# Plotting the residuals\n",
        "plt.subplots(figsize=(8, 4))\n",
        "plt.scatter(x=df.index, y=(pred_sarima-df['#Passengers'].values), alpha=0.8)\n",
        "plt.plot(np.repeat(0, len(df.index)+2), color='darkorange', linestyle='--')\n",
        "\n",
        "plt.ylabel('Residual', fontsize=14)\n",
        "plt.xlabel('Year', fontsize=14)\n",
        "plt.title('Homescedasticity Assumption', fontsize=16)\n",
        "plt.show()  "
      ],
      "execution_count": null,
      "outputs": [
        {
          "output_type": "display_data",
          "data": {
            "image/png": "[encoded data removed]",
            "text/plain": [
              "<Figure size 576x288 with 1 Axes>"
            ]
          },
          "metadata": {
            "needs_background": "light"
          }
        }
      ]
    },
    {
      "cell_type": "markdown",
      "metadata": {
        "id": "he5Wb53STa0n"
      },
      "source": [
        "Our residual seems to have constant and uniform variance, so **we can assume that it satisfied the homoscedasticity assumption.**"
      ]
    }
  ]
}