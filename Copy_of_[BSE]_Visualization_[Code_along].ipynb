{
  "nbformat": 4,
  "nbformat_minor": 0,
  "metadata": {
    "colab": {
      "name": "Copy of [BSE] Visualization [Code along].ipynb",
      "provenance": [],
      "include_colab_link": true
    },
    "kernelspec": {
      "name": "python3",
      "display_name": "Python 3"
    }
  },
  "cells": [
    {
      "cell_type": "markdown",
      "metadata": {
        "id": "view-in-github",
        "colab_type": "text"
      },
      "source": [
        "<a href=\"https://colab.research.google.com/github/drajaysingh9/datasciencecoursera/blob/main/Copy_of_%5BBSE%5D_Visualization_%5BCode_along%5D.ipynb\" target=\"_parent\"><img src=\"https://colab.research.google.com/assets/colab-badge.svg\" alt=\"Open In Colab\"/></a>"
      ]
    },
    {
      "cell_type": "markdown",
      "metadata": {
        "id": "CmEwpqfhiXY0"
      },
      "source": [
        "# Plotting and Visualization\n",
        "Here, we will focus excelusively on matplotlib and the high-level plotting availabel within pandas. It is currently the most robust and feature-rich package available.\n",
        "\n",
        "### Visual representation of data\n",
        "\n",
        "We require plots, charts and other statistical graphics for the written communication of quantitative ideas.\n",
        "\n",
        "They allow us to more easily convey relationships and reveal deviations from patterns.\n",
        "\n",
        "Gelman and Unwin 2011:\n",
        "\n",
        "> A well-designed graph can display more information than a table of the same size, and more information than numbers embedded in text. Graphical displays allow and encourage direct visual comparisons."
      ]
    },
    {
      "cell_type": "code",
      "metadata": {
        "id": "W6YBOZfbiP_T"
      },
      "source": [
        "#import libraries\n"
      ],
      "execution_count": null,
      "outputs": []
    },
    {
      "cell_type": "code",
      "metadata": {
        "id": "QXtp-LiPidTX"
      },
      "source": [
        "#plot random value\n"
      ],
      "execution_count": null,
      "outputs": []
    },
    {
      "cell_type": "code",
      "metadata": {
        "id": "UT_UxkEEVBcM"
      },
      "source": [
        ""
      ],
      "execution_count": null,
      "outputs": []
    },
    {
      "cell_type": "markdown",
      "metadata": {
        "id": "NQMBc_xaimeL"
      },
      "source": [
        "### Markers\n",
        "character | description | character | description | character | description\n",
        "--- | :--- | --- | :--- | --- | :---\n",
        "'.' | point marker | ',' | pixel marker | 'o'\t| circle marker\n",
        "'v'\t| triangle_down marker | '^'\t| triangle_up marker | '<'\t| triangle_left marker\n",
        "'>'\t| triangle_right marker | '1'\t| tri_down marker | '2'\t| tri_up marker\n",
        "'3'\t| tri_left marker | '4'\t| tri_right marker | 's'\t| square marker\n",
        "'p'\t| pentagon marker | '*'\t| star marker | 'h'\t| hexagon1 marker\n",
        "'H'\t| hexagon2 marker | '+'\t| plus marker | 'x'\t| x marker\n",
        "'D'\t| diamond marker | 'd'\t| thin_diamond marker | '\\|' | vline marker\n",
        "'_'\t| hline marker | |\n",
        "\n",
        "### Line Styles\n",
        "\n",
        "character | description\n",
        "---  |  :---\n",
        "'-'  |\tsolid line style\n",
        "'--' |\tdashed line style\n",
        "'-.' |\tdash-dot line style\n",
        "':'\t | dotted line style\n",
        "\n",
        "### Colors\n",
        "\n",
        "The supported color abbreviations are the single letter codes\n",
        "\n",
        "character | color | character | color | character | color\n",
        "--- | :--- | --- | :--- | --- | :---\n",
        "'b'\t| blue | 'g' | green | 'r' |\tred\n",
        "'c'\t| cyan | 'm' | magenta | 'y' | yellow\n",
        "'k'\t| black | 'w' | white |\n"
      ]
    },
    {
      "cell_type": "code",
      "metadata": {
        "id": "Pq9uVdn9ih0G"
      },
      "source": [
        "plt.plot(np.random.normal(size=10), 'ro-.')\n",
        "plt.title(\"Demo of Title\")"
      ],
      "execution_count": null,
      "outputs": []
    },
    {
      "cell_type": "markdown",
      "metadata": {
        "id": "3VDpbxuHi42R"
      },
      "source": [
        "### Title\n",
        "Set a title for the axes.\n",
        "Parameters\n",
        "\n",
        "    label: str\n",
        "    - Text to use for the title\n",
        "\n",
        "    font: dictdict\n",
        "    - A dictionary controlling the appearance of the title text, the default fontdict is:\n",
        "\n",
        "```json\n",
        "{'fontsize': rcParams['axes.titlesize'],\n",
        " 'color': rcParams['axes.titlecolor'],\n",
        " 'horizontalalignment': loc}\n",
        "```\n",
        "    loc: {'center', 'left', 'right'}, default: rcParams[\"axes.titlelocation\"] (default: 'center')\n",
        "    - Which title to set.\n",
        "\n",
        "    y: float, default: rcParams[\"axes.titley\"] (default: None)\n",
        "    - Vertical axes loation for the title (1.0 is the top). If None (the default), y is determined automatically to avoid decorators on the axes.\n",
        "\n",
        "    pad: float, default: rcParams[\"axes.titlepad\"] (default: 6.0)\n",
        "    - The offset of the title from the top of the axes, in points."
      ]
    },
    {
      "cell_type": "code",
      "metadata": {
        "id": "53bBScsVi58X"
      },
      "source": [
        "#Set Title"
      ],
      "execution_count": null,
      "outputs": []
    },
    {
      "cell_type": "code",
      "metadata": {
        "id": "rL14MqnNi-Jf"
      },
      "source": [
        "#Set Label"
      ],
      "execution_count": null,
      "outputs": []
    },
    {
      "cell_type": "markdown",
      "metadata": {
        "id": "8chPHnjCjBrk"
      },
      "source": [
        "### Label\n",
        "#### xlabel() or ylabel()\n",
        "Parameters\n",
        "\n",
        "    xlabel: str\n",
        "    - The label text.\n",
        "\n",
        "    labelpad: float, default: None\n",
        "    - Spacing in points from the axes bounding box including ticks and tick labels.\n",
        "\n",
        "    loc: {'left', 'center', 'right'} or {'bottom', 'center', 'top'}, default: 'center'\n",
        "    - The label position. This is a high-level alternative for passing parameters x and horizontalalignment."
      ]
    },
    {
      "cell_type": "code",
      "metadata": {
        "id": "KRey7-qCjCgr"
      },
      "source": [
        "#Styling the label"
      ],
      "execution_count": null,
      "outputs": []
    },
    {
      "cell_type": "code",
      "metadata": {
        "id": "9ylYekD7jHBi"
      },
      "source": [
        "plt.plot(np.random.normal(size=10), 'ro')\n",
        "plt.title(\"Demo of Title\")\n",
        "\n",
        "plt.xlabel(\"x-axis\")\n",
        "plt.ylabel(\"y-axis\")\n",
        "\n",
        "#xlim intro"
      ],
      "execution_count": null,
      "outputs": []
    },
    {
      "cell_type": "markdown",
      "metadata": {
        "id": "1rLfeTYLjH_h"
      },
      "source": [
        "### xlim or ylim\n",
        "Get or set the x or y limits of the current axes.\n",
        "Setting limits turns autoscaling off for the x-axis.\n",
        "\n",
        "left, right\n",
        "- A tuple of the new x-axis limits.\n",
        "\n",
        "or\n",
        "\n",
        "bottom, top\n",
        "- A tuple of the new y-axis limits."
      ]
    },
    {
      "cell_type": "code",
      "metadata": {
        "id": "vlsYu2A2jLK9"
      },
      "source": [
        "#xlim ylim"
      ],
      "execution_count": null,
      "outputs": []
    },
    {
      "cell_type": "code",
      "metadata": {
        "id": "qVsluLPBjOpB"
      },
      "source": [
        "#xtick intro"
      ],
      "execution_count": null,
      "outputs": []
    },
    {
      "cell_type": "markdown",
      "metadata": {
        "id": "4skV5ZDKjcod"
      },
      "source": [
        "### xticks or yticks\n",
        "Get or set the current tick locations and labels of the x-axis or y-axis.\n",
        "\n",
        "Pass no arguments to return the current values without modifying them.\n",
        "\n",
        "Parameters:\n",
        "\n",
        "    ticks: array-like, optional\n",
        "    - The list of xtick locations. Passing an empty list removes all xticks.\n",
        "\n",
        "    labels: array-like, optional\n",
        "    - The labels to place at the given ticks locations. This argument can only be passed if ticks is passed as well.\n",
        "    \n",
        "Example:\n",
        "~~~json\n",
        "locs, labels = xticks()  # Get the current locations and labels.\n",
        "xticks(np.arange(0, 1, step=0.2))  # Set label locations.\n",
        "xticks(np.arange(3), ['Tom', 'Dick', 'Sue'])  # Set text labels.\n",
        "xticks([0, 1, 2], ['January', 'February', 'March'], rotation=20)  # Set text labels and properties.\n",
        "xticks([])  # Disable xticks.\n",
        "~~~"
      ]
    },
    {
      "cell_type": "code",
      "metadata": {
        "id": "_OZwCmYdjde8"
      },
      "source": [
        "#xtick ytick"
      ],
      "execution_count": null,
      "outputs": []
    },
    {
      "cell_type": "code",
      "metadata": {
        "colab": {
          "base_uri": "https://localhost:8080/"
        },
        "id": "WKc4n8m-eCSo",
        "outputId": "03ec10b5-2c57-467c-d778-6e91a20cd1c1"
      },
      "source": [
        "import numpy as np\n",
        "a = np.array([1, 2, 3])\n",
        "c = a[::-1]\n",
        "c"
      ],
      "execution_count": null,
      "outputs": [
        {
          "output_type": "execute_result",
          "data": {
            "text/plain": [
              "array([3, 2, 1])"
            ]
          },
          "metadata": {},
          "execution_count": 4
        }
      ]
    },
    {
      "cell_type": "code",
      "metadata": {
        "id": "NKNXGllWjgp9"
      },
      "source": [
        "# Make some fake data.\n",
        "\n",
        "\n",
        "# Create plots with pre-defined labels.\n"
      ],
      "execution_count": null,
      "outputs": []
    },
    {
      "cell_type": "markdown",
      "metadata": {
        "id": "r3Ha_RT4jjij"
      },
      "source": [
        "### legend\n",
        "\n",
        "1. Automatic detection of elements to be shown in the legend\n",
        "\n",
        "    The elements to be added to the legend are automatically determined, when you do not pass in any extra arguments.\n",
        "```json\n",
        "line, = ax.plot([1, 2, 3], label='Inline label')\n",
        "ax.legend()\n",
        "```\n",
        "\n",
        "2. Labeling existing plot elements\n",
        "\n",
        "    To make a legend for lines which already exist on the axes (via plot for instance), simply call this function with an iterable of strings, one for each legend item.\n",
        "```json\n",
        "ax.plot([1, 2, 3])\n",
        "ax.legend(['A simple line'])\n",
        "```\n",
        "    \n",
        "3. Explicitly defining the elements in the legend\n",
        "\n",
        "    For full control of which artists have a legend entry, it is possible to pass an iterable of legend artists followed by an iterable of legend labels respectively.\n",
        "```json\n",
        "legend((line1, line2, line3), ('label1', 'label2', 'label3'))\n",
        "```\n",
        "\n",
        "Parameters:\n",
        "- loc:\n",
        "Location String\t| Location Code | Location String\t| Location Code | Location String\t| Location Code\n",
        ":--- | --- | :--- | --- |:--- | ---\n",
        "'best' |\t0 | 'lower right' |\t4 | 'lower center' |\t8\n",
        "'upper right' | 1 | 'right' |\t5 | 'upper center' |\t9\n",
        "'upper left' |\t2 | 'center left' |\t6 | 'center' |\t10\n",
        "'lower left' |\t3 | 'center right' |\t7\n",
        "\n",
        "bbox_to_anchor: 2-tuple, or 4-tuple of floats\n",
        "- Box that is used to position the legend in conjunction with loc. Defaults to axes.bbox (if called as a method to Axes.legend) or figure.bbox (if Figure.legend). This argument allows arbitrary placement of the legend.\n",
        "\n",
        "- Bbox coordinates are interpreted in the coordinate system given by bbox_transform, with the default transform Axes or Figure coordinates, depending on which legend is called.\n",
        "\n",
        "- If a 4-tuple or BboxBase is given, then it specifies the bbox (x, y, width, height) that the legend is placed in. To put the legend in the best location in the bottom right quadrant of the axes (or figure):\n",
        "\n",
        "fontsize: int or {'xx-small', 'x-small', 'small', 'medium', 'large', 'x-large', 'xx-large'}\n",
        "- The font size of the legend. If the value is numeric the size will be the absolute font size in points. String values are relative to the current default font size. This argument is only used if prop is not specified.\n",
        "\n",
        "shadow: bool, default: rcParams[\"legend.shadow\"] (default: False)\n",
        "- Whether to draw a shadow behind the legend.\n",
        "\n",
        "framealpha: float, default: rcParams[\"legend.framealpha\"] (default: 0.8)\n",
        "- The alpha transparency of the legend's background. If shadow is activated and framealpha is None, the default value is ignored.\n",
        "\n",
        "facecolor: \"inherit\" or color, default: rcParams[\"legend.facecolor\"] (default: 'inherit')\n",
        "- The legend's background color. If \"inherit\", use rcParams[\"axes.facecolor\"] (default: 'white').\n",
        "\n",
        "edgecolor: \"inherit\" or color, default: rcParams[\"legend.edgecolor\"] (default: '0.8')\n",
        "- The legend's background patch edge color. If \"inherit\", use take rcParams[\"axes.edgecolor\"] (default: 'black').\n",
        "\n",
        "title: str or None\n",
        "- The legend's title. Default is no title (None).\n",
        "\n",
        "title_fontsize: int or {'xx-small', 'x-small', 'small', 'medium', 'large', 'x-large', 'xx-large'}, default: rcParams[\"legend.title_fontsize\"] (default: None)\n",
        "- The font size of the legend's title."
      ]
    },
    {
      "cell_type": "code",
      "metadata": {
        "id": "id9veSqxjmq0"
      },
      "source": [
        "#add legends"
      ],
      "execution_count": null,
      "outputs": []
    },
    {
      "cell_type": "markdown",
      "metadata": {
        "id": "KM4BiVbqlHGb"
      },
      "source": [
        "matplotlib is a relatively low-level plotting package, relative to others. It makes very few assumptions about what constitutes good layout (by design), but has a lot of flexiblility to allow the user to completely customize the look of the output.\n",
        "\n",
        "If you want to make your plots look pretty like mine, steal the *matplotlibrc* file from [Huy Nguyen](http://www.huyng.com/posts/sane-color-scheme-for-matplotlib/).\n",
        "\n",
        "## Plotting in Pandas\n",
        "\n",
        "On the other hand, Pandas includes methods for DataFrame and Series objects that are relatively high-level, and that make reasonable assumptions about how the plot should look."
      ]
    },
    {
      "cell_type": "code",
      "metadata": {
        "colab": {
          "base_uri": "https://localhost:8080/",
          "height": 282
        },
        "id": "6m2CgA4-mVND",
        "outputId": "ad949be0-d58f-4aad-c2d9-8bf75a2a80cc"
      },
      "source": [
        "normals = pd.Series(np.random.normal(size=10))\n",
        "normals.plot()"
      ],
      "execution_count": null,
      "outputs": [
        {
          "output_type": "execute_result",
          "data": {
            "text/plain": [
              "<matplotlib.axes._subplots.AxesSubplot at 0x7f8713532390>"
            ]
          },
          "metadata": {
            "tags": []
          },
          "execution_count": 76
        },
        {
          "output_type": "display_data",
          "data": {
            "image/png": "[encoded data removed]",
            "text/plain": [
              "<Figure size 432x288 with 1 Axes>"
            ]
          },
          "metadata": {
            "tags": [],
            "needs_background": "light"
          }
        }
      ]
    },
    {
      "cell_type": "markdown",
      "metadata": {
        "id": "oALFNlQ7mhy5"
      },
      "source": [
        "Similarly, for a DataFrame:"
      ]
    },
    {
      "cell_type": "code",
      "metadata": {
        "colab": {
          "base_uri": "https://localhost:8080/",
          "height": 282
        },
        "id": "aMswI7xRmj_o",
        "outputId": "d56ef5c7-1163-429b-9b4b-95b7906b2f5c"
      },
      "source": [
        "variables = pd.DataFrame({'normal': np.random.normal(size=100), \n",
        "                       'gamma': np.random.gamma(1, size=100), \n",
        "                       'poisson': np.random.poisson(size=100)})\n",
        "variables.cumsum(0).plot()"
      ],
      "execution_count": null,
      "outputs": [
        {
          "output_type": "execute_result",
          "data": {
            "text/plain": [
              "<matplotlib.axes._subplots.AxesSubplot at 0x7f87133bc2b0>"
            ]
          },
          "metadata": {
            "tags": []
          },
          "execution_count": 78
        },
        {
          "output_type": "display_data",
          "data": {
            "image/png": "[encoded data removed]",
            "text/plain": [
              "<Figure size 432x288 with 1 Axes>"
            ]
          },
          "metadata": {
            "tags": [],
            "needs_background": "light"
          }
        }
      ]
    },
    {
      "cell_type": "markdown",
      "metadata": {
        "id": "eHkU1ulqmtkN"
      },
      "source": [
        "As an illustration of the high-level nature of Pandas plots, we can split multiple series into subplots with a single argument for `plot`:"
      ]
    },
    {
      "cell_type": "code",
      "metadata": {
        "colab": {
          "base_uri": "https://localhost:8080/",
          "height": 122
        },
        "id": "M3Tqc1SFmv1d",
        "outputId": "6fd14989-5a45-4965-d2e0-8faab1204be2"
      },
      "source": [
        "variables.cumsum(0).plot(subplots=True)"
      ],
      "execution_count": null,
      "outputs": [
        {
          "output_type": "execute_result",
          "data": {
            "text/plain": [
              "array([<matplotlib.axes._subplots.AxesSubplot object at 0x7f8713337e48>,\n",
              "       <matplotlib.axes._subplots.AxesSubplot object at 0x7f87132dde80>,\n",
              "       <matplotlib.axes._subplots.AxesSubplot object at 0x7f871329a0f0>],\n",
              "      dtype=object)"
            ]
          },
          "metadata": {
            "tags": []
          },
          "execution_count": 79
        },
        {
          "output_type": "display_data",
          "data": {
            "image/png": "[encoded data removed]",
            "text/plain": [
              "<Figure size 432x288 with 3 Axes>"
            ]
          },
          "metadata": {
            "tags": [],
            "needs_background": "light"
          }
        }
      ]
    },
    {
      "cell_type": "markdown",
      "metadata": {
        "id": "3YnlDMlYmyRJ"
      },
      "source": [
        "Or, we may want to have some series displayed on the secondary y-axis, which can allow for greater detail and less empty space:"
      ]
    },
    {
      "cell_type": "code",
      "metadata": {
        "colab": {
          "base_uri": "https://localhost:8080/",
          "height": 71
        },
        "id": "gasqWu3am0aQ",
        "outputId": "2cbdbc63-c80f-4fa7-f89d-41d1ab0de930"
      },
      "source": [
        "variables.cumsum(0).plot(secondary_y='normal')"
      ],
      "execution_count": null,
      "outputs": [
        {
          "output_type": "execute_result",
          "data": {
            "text/plain": [
              "<matplotlib.axes._subplots.AxesSubplot at 0x7f87131c5240>"
            ]
          },
          "metadata": {
            "tags": []
          },
          "execution_count": 80
        },
        {
          "output_type": "display_data",
          "data": {
            "image/png": "[encoded data removed]",
            "text/plain": [
              "<Figure size 432x288 with 2 Axes>"
            ]
          },
          "metadata": {
            "tags": [],
            "needs_background": "light"
          }
        }
      ]
    },
    {
      "cell_type": "markdown",
      "metadata": {
        "id": "b_PINWBLm3a8"
      },
      "source": [
        "If we would like a little more control, we can use matplotlib's `subplots` function directly, and manually assign plots to its axes:"
      ]
    },
    {
      "cell_type": "code",
      "metadata": {
        "colab": {
          "base_uri": "https://localhost:8080/",
          "height": 298
        },
        "id": "sVj0xmckm56v",
        "outputId": "2c38f1f6-c383-4168-8095-c16cd2c2b42d"
      },
      "source": [
        "fig, axes = plt.subplots(nrows=1, ncols=3, figsize=(12, 4))\n",
        "for i,var in enumerate(['normal','gamma','poisson']):\n",
        "    variables[var].cumsum(0).plot(ax=axes[i], title=var)\n",
        "axes[0].set_ylabel('cumulative sum')"
      ],
      "execution_count": null,
      "outputs": [
        {
          "output_type": "execute_result",
          "data": {
            "text/plain": [
              "Text(0, 0.5, 'cumulative sum')"
            ]
          },
          "metadata": {
            "tags": []
          },
          "execution_count": 81
        },
        {
          "output_type": "display_data",
          "data": {
            "image/png": "[encoded data removed]",
            "text/plain": [
              "<Figure size 864x288 with 3 Axes>"
            ]
          },
          "metadata": {
            "tags": [],
            "needs_background": "light"
          }
        }
      ]
    },
    {
      "cell_type": "markdown",
      "metadata": {
        "id": "wuO-IYDcUG0I"
      },
      "source": [
        "##NSE Datasets\n",
        "\n",
        "![](https://drive.google.com/uc?export=view&id=1qSx45-WKL-ZdHum67lthsd6pIHUxAIE6)\n",
        "\n"
      ]
    },
    {
      "cell_type": "code",
      "metadata": {
        "id": "fwJXyEzqU9xU"
      },
      "source": [
        "# Importing required modules\n",
        "import pandas as pd\n",
        "import numpy as np\n",
        "import matplotlib.pyplot as plt\n",
        "%matplotlib inline\n",
        "\n",
        "# Reading in the data\n"
      ],
      "execution_count": null,
      "outputs": []
    },
    {
      "cell_type": "markdown",
      "metadata": {
        "id": "Ty3MfaurWm1_"
      },
      "source": [
        "####A first look at NIFTY data\n",
        "Let’s combine the different CSV files in a single dataframe based on the ‘closing’ price of the stocks on a particular day, and filter out the data before 2020. \n",
        "\n",
        "Let’s then look at the first few columns of the dataset:\n",
        "\n"
      ]
    },
    {
      "cell_type": "code",
      "metadata": {
        "id": "n5nFB-6LWw23"
      },
      "source": [
        "#Preprocess the data\n",
        "\n",
        "# Inspecting the data\n"
      ],
      "execution_count": null,
      "outputs": []
    },
    {
      "cell_type": "markdown",
      "metadata": {
        "id": "tho5AhBNXak_"
      },
      "source": [
        "####Different plot styles in pandas\n",
        "\n",
        "![](https://drive.google.com/uc?export=view&id=1_cwaTWkypNdNL2j7WGkUXWfzw2IUWj6M)\n",
        "\n",
        "\n"
      ]
    },
    {
      "cell_type": "code",
      "metadata": {
        "id": "jDahh5n9XziW"
      },
      "source": [
        "#Line Plot\n",
        "\n"
      ],
      "execution_count": null,
      "outputs": []
    },
    {
      "cell_type": "markdown",
      "metadata": {
        "id": "t0T7O-fWYE-l"
      },
      "source": [
        "Bar Plot\n",
        "\n",
        "To create a bar plot for the NIFTY data, you will need to resample/ aggregate the data by month-end. The pandas’ library has a resample() function, which resamples the time series data. "
      ]
    },
    {
      "cell_type": "code",
      "metadata": {
        "id": "5PojqNGUYM_l"
      },
      "source": [
        "#Resample the data"
      ],
      "execution_count": null,
      "outputs": []
    },
    {
      "cell_type": "code",
      "metadata": {
        "id": "iFSrtjicYeNn"
      },
      "source": [
        "#Bar Plot using 'kind' function"
      ],
      "execution_count": null,
      "outputs": []
    },
    {
      "cell_type": "code",
      "metadata": {
        "id": "snDc6zNHZKoJ"
      },
      "source": [
        "#create the same plot without providing the ‘kind’ argument:\n"
      ],
      "execution_count": null,
      "outputs": []
    },
    {
      "cell_type": "markdown",
      "metadata": {
        "id": "rsaCJ3ZGZWNH"
      },
      "source": [
        "Types of Bar Plots: \n",
        "1. Horizontal Bar Charts\n",
        "2. Stacked Bar Charts"
      ]
    },
    {
      "cell_type": "code",
      "metadata": {
        "id": "kwpVKyk-ZT6o"
      },
      "source": [
        "#Horizontal Bar Charts\n",
        "#for vertical barplot\n",
        "#for Horizontal barplot"
      ],
      "execution_count": null,
      "outputs": []
    },
    {
      "cell_type": "markdown",
      "metadata": {
        "id": "N8VzpX-XamC2"
      },
      "source": [
        "Histogram\n",
        "\n"
      ]
    },
    {
      "cell_type": "code",
      "metadata": {
        "id": "YlqEt8QNakB_"
      },
      "source": [
        "#Histogram"
      ],
      "execution_count": null,
      "outputs": []
    },
    {
      "cell_type": "markdown",
      "metadata": {
        "id": "m9-njt8Ea8y9"
      },
      "source": [
        "KDE plots\n",
        "\n",
        "Pandas can generate a Kernel Density Estimate (KDE) plot using Gaussian kernels. A kernel density estimate plot shows the distribution of a single variable and can be thought of as a smoothed histogram.\n",
        "\n"
      ]
    },
    {
      "cell_type": "code",
      "metadata": {
        "id": "qxUx_LS8bBM-"
      },
      "source": [
        "#KDE Plot of 2 dataframes"
      ],
      "execution_count": null,
      "outputs": []
    },
    {
      "cell_type": "code",
      "metadata": {
        "id": "UhhLBuM_bNvo"
      },
      "source": [
        "#KDE Plots using subplots [1X4]"
      ],
      "execution_count": null,
      "outputs": []
    },
    {
      "cell_type": "code",
      "metadata": {
        "id": "qJm9g0vgeFmt"
      },
      "source": [
        "#KDE Plots using subplots [2X2]\n"
      ],
      "execution_count": null,
      "outputs": []
    },
    {
      "cell_type": "markdown",
      "metadata": {
        "id": "tBxtM1ZOiB5n"
      },
      "source": [
        "####Interpreting a Box Plot\n",
        "\n",
        "![](https://drive.google.com/uc?export=view&id=15YsgAmHLwexfRqvxgBaML5fEEirUpeaU)\n",
        "\n"
      ]
    },
    {
      "cell_type": "code",
      "metadata": {
        "id": "-CFOf56tie7G"
      },
      "source": [
        "#BoxPlot"
      ],
      "execution_count": null,
      "outputs": []
    },
    {
      "cell_type": "markdown",
      "metadata": {
        "id": "dDSaNlnKhP2U"
      },
      "source": [
        "####Area Plot"
      ]
    },
    {
      "cell_type": "code",
      "metadata": {
        "id": "bzOQdELjiwGz"
      },
      "source": [
        "#Area Plots\n",
        "\n",
        "\n",
        "#Unstacked\n"
      ],
      "execution_count": null,
      "outputs": []
    },
    {
      "cell_type": "markdown",
      "metadata": {
        "id": "-pzdQXzJi-99"
      },
      "source": [
        "Scatter Plots\n",
        "\n",
        "Scatter plot showing the relationship between NIFTY IT index and NIFTY FMCG"
      ]
    },
    {
      "cell_type": "code",
      "metadata": {
        "id": "c3_88YbXjIWj"
      },
      "source": [
        "#Scatter Plots\n"
      ],
      "execution_count": null,
      "outputs": []
    },
    {
      "cell_type": "markdown",
      "metadata": {
        "id": "nFmfmTUGjbGg"
      },
      "source": [
        "Hexagonal Bin Plot\n",
        "\n",
        "A hexagonal bin plot, also known as a hexbin plot, can be used as an alternative to scatterplots. This kind of plot is particularly useful when the number of data points is huge, and each point cannot be plotted individually.\n"
      ]
    },
    {
      "cell_type": "code",
      "metadata": {
        "id": "ziMMGdFbjVtm"
      },
      "source": [
        "#Hexagonal Bin Plot\n"
      ],
      "execution_count": null,
      "outputs": []
    },
    {
      "cell_type": "code",
      "metadata": {
        "id": "Hgf1UORMkSeG"
      },
      "source": [
        "#Pie Plot"
      ],
      "execution_count": null,
      "outputs": []
    },
    {
      "cell_type": "code",
      "metadata": {
        "id": "oeo3WOupke_b"
      },
      "source": [
        "#Pie Plot with subplots"
      ],
      "execution_count": null,
      "outputs": []
    },
    {
      "cell_type": "markdown",
      "metadata": {
        "id": "zEPnBRF4yTNh"
      },
      "source": [
        "# Boxplot and Heatmap with Air Passenger dataset"
      ]
    },
    {
      "cell_type": "code",
      "metadata": {
        "id": "cYaKoeNNu4B8"
      },
      "source": [
        "%matplotlib inline\n",
        "import pandas as pd\n",
        "import numpy as np\n",
        "import matplotlib as mpl\n",
        "import matplotlib.pyplot as plt\n",
        "data_a = pd.read_csv('https://raw.githubusercontent.com/rishiraj-cs/BSE-TimeSeries/main/AirPassengers.csv')"
      ],
      "execution_count": null,
      "outputs": []
    },
    {
      "cell_type": "code",
      "metadata": {
        "id": "vovX9AAP7SRn"
      },
      "source": [
        "#Print head\n"
      ],
      "execution_count": null,
      "outputs": []
    },
    {
      "cell_type": "code",
      "metadata": {
        "id": "2ieDuoOp-Jss"
      },
      "source": [
        "# Datatypes\n"
      ],
      "execution_count": null,
      "outputs": []
    },
    {
      "cell_type": "code",
      "metadata": {
        "id": "KeOrxFpM-Jqs"
      },
      "source": [
        "#range\n"
      ],
      "execution_count": null,
      "outputs": []
    },
    {
      "cell_type": "code",
      "metadata": {
        "id": "W1E6-GnR-Jop"
      },
      "source": [
        "#convert to datetime\n",
        "\n",
        "#check datatype of index\n"
      ],
      "execution_count": null,
      "outputs": []
    },
    {
      "cell_type": "code",
      "metadata": {
        "id": "W1M9p0qn-Jmd"
      },
      "source": [
        "#convert to time series:\n"
      ],
      "execution_count": null,
      "outputs": []
    },
    {
      "cell_type": "code",
      "metadata": {
        "id": "nRAej1b--JkQ"
      },
      "source": [
        "#specific to the index\n"
      ],
      "execution_count": null,
      "outputs": []
    },
    {
      "cell_type": "code",
      "metadata": {
        "id": "Vb3Pp92M-JiZ"
      },
      "source": [
        "#For range\n"
      ],
      "execution_count": null,
      "outputs": []
    },
    {
      "cell_type": "code",
      "metadata": {
        "id": "KoNowwmB-Jf-"
      },
      "source": [
        "#if one index is at the end\n"
      ],
      "execution_count": null,
      "outputs": []
    },
    {
      "cell_type": "code",
      "metadata": {
        "id": "-ezUqiqj-Jdi"
      },
      "source": [
        "#All rows of 1949\n"
      ],
      "execution_count": null,
      "outputs": []
    },
    {
      "cell_type": "code",
      "metadata": {
        "id": "gxCwPGZ5ewtv"
      },
      "source": [
        "#For december\n"
      ],
      "execution_count": null,
      "outputs": []
    },
    {
      "cell_type": "code",
      "metadata": {
        "id": "K-xLzTTBe6ek"
      },
      "source": [
        "#For 1st day of each month"
      ],
      "execution_count": null,
      "outputs": []
    },
    {
      "cell_type": "code",
      "metadata": {
        "id": "bnx4kQwb-4Cv"
      },
      "source": [
        "#Passenger PLOT\n",
        "import seaborn as sns\n",
        "data_a.plot(figsize=(12,5))\n",
        "plt.ylabel('Passengers')\n",
        "plt.legend().set_visible(False)\n",
        "plt.tight_layout()\n",
        "plt.title('Passengers')\n",
        "sns.despine(top=True)\n",
        "plt.show()"
      ],
      "execution_count": null,
      "outputs": []
    },
    {
      "cell_type": "code",
      "metadata": {
        "id": "zQm3mErFakdT"
      },
      "source": [
        "#Rolling mean and Rolling standard deviation\n",
        "rollmean=data_a.rolling(window=10).mean()\n",
        "rollstd=data_a.rolling(window=10).std()\n",
        "print(rollmean.head(15))\n",
        "print(rollstd.head(15))"
      ],
      "execution_count": null,
      "outputs": []
    },
    {
      "cell_type": "code",
      "metadata": {
        "id": "cydGalukakf0"
      },
      "source": [
        "#Plot\n",
        "plt.figure(figsize=(20,10))\n",
        "actual_=plt.plot(data_a, color='red', label='Actual Data')\n",
        "mean_=plt.plot(rollmean, color='green', label='Rolling Mean') \n",
        "std_=plt.plot(rollstd, color='black', label='Rolling Std')\n",
        "plt.legend(loc='best')\n",
        "plt.title('Rolling Mean & Standard Deviation')\n",
        "plt.show(block=False)"
      ],
      "execution_count": null,
      "outputs": []
    },
    {
      "cell_type": "code",
      "metadata": {
        "id": "8ihDx6OP-4As"
      },
      "source": [
        "#Index the month and yesr\n",
        "month_arr = []\n",
        "year_arr = []\n",
        "year = 1949\n",
        "indexCol = []\n",
        "for i in range(len(data_a['#Passengers'])):\n",
        "  year_arr.append(year)\n",
        "  indexCol.append(i+1)\n",
        "  if((i+1)%12>0):\n",
        "    month_arr.append((i+1)%12)\n",
        "  else:\n",
        "    month_arr.append(12)\n",
        "    year = year + 1"
      ],
      "execution_count": null,
      "outputs": []
    },
    {
      "cell_type": "code",
      "metadata": {
        "id": "j_ZVFhXu-3-U"
      },
      "source": [
        "data_a['Month_num'] = month_arr\n",
        "data_a['Year_num'] = year_arr\n",
        "data_a['indexCol'] = indexCol"
      ],
      "execution_count": null,
      "outputs": []
    },
    {
      "cell_type": "code",
      "metadata": {
        "id": "iFdbHDARjgvL"
      },
      "source": [
        "data_a.head()"
      ],
      "execution_count": null,
      "outputs": []
    },
    {
      "cell_type": "code",
      "metadata": {
        "id": "RZTrfQib-38r"
      },
      "source": [
        "#Box plot \n",
        "plt.figure(figsize=(8,5))\n",
        "sns.boxplot(x=\"Month_num\", y=\"#Passengers\", data=data_a)\n",
        "plt.xlabel('Months')\n",
        "plt.title('Box plot of number of passengers travelled in that month')\n",
        "sns.despine(left=True)\n",
        "plt.tight_layout()\n",
        "plt.savefig('BoxPlot_Passengers_monthly.pdf', dpi=1400)\n",
        "plt.show()"
      ],
      "execution_count": null,
      "outputs": []
    },
    {
      "cell_type": "code",
      "metadata": {
        "id": "6TOXY2gg-36J"
      },
      "source": [
        "#Box plot \n",
        "plt.figure(figsize=(8,5))\n",
        "sns.boxplot(x=\"Year_num\", y=\"#Passengers\", data=data_a)\n",
        "plt.xlabel('Year')\n",
        "plt.title('Box plot of number of passengers travelled in that year')\n",
        "sns.despine(left=True)\n",
        "plt.tight_layout()\n",
        "plt.savefig('BoxPlot_Passengers_year.pdf', dpi=1400)\n",
        "plt.show()"
      ],
      "execution_count": null,
      "outputs": []
    },
    {
      "cell_type": "code",
      "metadata": {
        "id": "M-vw1SD47ssc"
      },
      "source": [
        "x=data_a['Month_num']\n",
        "y=data_a['#Passengers']\n",
        "plt.hist2d(x, y)\n",
        "plt.colorbar()"
      ],
      "execution_count": null,
      "outputs": []
    }
  ]
}